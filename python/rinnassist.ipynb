{
 "cells": [
  {
   "cell_type": "markdown",
   "metadata": {},
   "source": [
    "Dice Roller DELUXE\n",
    "By Kayla\n",
    "\n",
    "The anatomy of a roll:\n",
    "Rinn is making an attack. She gets two attacks per turn. Each attack involves 1d20+7 to hit and does 2d8+7 damage.\n",
    "This means rolling a d20 and 2 d8's, twice, so we need to make sure the bag has a d20 and two d8's. If not, add the missing\n",
    "dice to the bag. Then, roll each die.\n",
    "\n",
    "The bag keeps a record of all rolls\n",
    "Each die keeps a record of it's personal rolls\n",
    "Die can be given nicknames, custom descriptions, and can be excluded from general use (will still be used if included in a saved roll)\n"
   ]
  },
  {
   "cell_type": "code",
   "execution_count": null,
   "metadata": {},
   "outputs": [],
   "source": [
    "import random, re, sys, json\n",
    "from typing import Set\n",
    "class Die:\n",
    "    def __init__(self, sides:int=6, nickname = None, dieDict=None):\n",
    "        if dieDict:\n",
    "            self.from_dict(dieDict)\n",
    "        else:\n",
    "            self.sides = sides\n",
    "            self.tags = {}\n",
    "            self.tags[\"history\"] = []\n",
    "            self.tags[\"material\"] = self.generateMaterial()\n",
    "            self.tags[\"nickname\"] = nickname\n",
    "            self.blow()\n",
    "\n",
    "    def getTop(self):\n",
    "        if self.tags[\"history\"]!=[]:\n",
    "            return self.tags[\"history\"][0]\n",
    "        else:\n",
    "            return self.sides\n",
    "\n",
    "    def getNick(self):\n",
    "        return self.tags[\"nickname\"]\n",
    "\n",
    "    def getHistory(self):\n",
    "        return self.tags[\"history\"]\n",
    "\n",
    "    def addRoll(self, roll:int):\n",
    "        self.tags[\"history\"].insert(0,roll)\n",
    "\n",
    "    def look(self):\n",
    "        desc = f\"A {self.sides}-sided die made of {self.getMaterial()}. \"\n",
    "        if self.tags[\"nickname\"]:\n",
    "            desc = f\"\\\"{self.getNick()}\\\": \" + desc\n",
    "        desc += f\"The top face shows {self.getTop()}\"\n",
    "        return desc\n",
    "\n",
    "    def setName(self, nickname):\n",
    "        self.nickname = nickname\n",
    "\n",
    "    def generateMaterial(self):\n",
    "        return random.choice([\"plastic\",\"stone\",\"wood\",\"bone\"])\n",
    "\n",
    "    def getMaterial(self):\n",
    "        return self.tags[\"material\"]\n",
    "\n",
    "    def roll(self):\n",
    "        self.seed = (self.seed + 1)%sys.maxsize\n",
    "        random.seed(self.seed)\n",
    "        self.addRoll(random.randint(1,self.sides))\n",
    "        return self.getHistory()[0]\n",
    "\n",
    "    def blow(self):\n",
    "        self.seed = random.randrange(sys.maxsize)\n",
    "\n",
    "    def to_dict(self):\n",
    "        retDict = {\n",
    "            \"sides\":self.sides,\n",
    "            \"seed\":self.seed,\n",
    "            \"tags\":self.tags\n",
    "        }\n",
    "        return retDict\n",
    "\n",
    "    def from_dict(self, dieDict):\n",
    "        self.sides = dieDict[\"sides\"]\n",
    "        self.seed = dieDict[\"seed\"]\n",
    "        self.tags = dieDict[\"tags\"]\n",
    "\n",
    "\n",
    "\n",
    "class DiceBag:\n",
    "    def __init__(self, nickname:str = \"\"):\n",
    "        self.dice: Set[Die] = set()\n",
    "        self.nickname = \"\"\n",
    "        #self.loadBag()\n",
    "\n",
    "    def getDie(self, num_sides:int):\n",
    "        face_dice = set(die for die in self.dice if die.sides==num_sides)\n",
    "        if face_dice:\n",
    "            die = face_dice.pop()\n",
    "            self.dice.remove(die)\n",
    "            return die\n",
    "        else:\n",
    "            return Die(num_sides)\n",
    "\n",
    "    def addDie(self, die:Die):\n",
    "        self.dice.add(die)\n",
    "\n",
    "    def to_list(self):\n",
    "        return [die.to_dict() for die in self.dice]\n",
    "\n",
    "\n",
    "    def saveBag(self, filepath:str = \"dicebag.json\"):\n",
    "        with open(filepath, \"w\") as f:\n",
    "            json.dump(self.to_list(), f)\n",
    "\n",
    "\n",
    "    def loadBag(self, filepath:str = \"dicebag.json\"):\n",
    "        with open(filepath, \"r\") as f:\n",
    "            data = json.load(f)\n",
    "\n",
    "        for die in data:\n",
    "            self.dice.add(Die(dieDict = die))\n",
    "\n",
    "\n",
    "class Roll:\n",
    "    def __init__(self,diceBag:DiceBag, rollString:str):\n",
    "        self.dice: Set[Die] = set()\n",
    "        self.db=diceBag\n",
    "        self.parseRoll(rollString)\n",
    "        for die in self.dice:\n",
    "            db.addDie(die)\n",
    "            print(len(self.dice))\n",
    "\n",
    "    def parseRoll(self, rollString:str):\n",
    "        rollElements = rollString.split(\"+\")\n",
    "        print(rollElements)\n",
    "        for element in rollElements:\n",
    "            self.bonus=int(element) if element.isnumeric() else 0\n",
    "            if \"d\" in element:\n",
    "                s = element.split(\"d\")\n",
    "                s[0] = int(s[0]) if s[0].isnumeric() else 1\n",
    "                for _ in range(s[0]):\n",
    "                    print(\"Adding die to roll\")\n",
    "                    self.dice.add(self.db.getDie(int(s[1])))\n",
    "\n",
    "    def roll(self):\n",
    "        s = 0\n",
    "        for die in self.dice:\n",
    "            s += die.roll()\n",
    "        s += self.bonus\n",
    "        return s\n",
    "\n",
    "\n",
    "\n",
    "    # def parseRoll(self, dieString):\n",
    "    #         if ',' in dieString:\n",
    "    #             for string in dieString.split(','):\n",
    "    #                 self.parseRoll(db, string)\n",
    "    #         else:\n",
    "    #             result = re.search(\"(\\d*)d(\\d+)[+]?(\\d*)?[x*]?(\\d*)?\", dieString)\n",
    "    #             num_die = int(result.groups()[0]) if result.groups()[0] else 1\n",
    "    #             num_sides = int(result.groups()[1])\n",
    "    #             self.bonus = int(result.groups()[2]) if result.groups()[2] else 0\n",
    "\n",
    "    #             for _ in range(num_die):\n",
    "    #                 diceBag.get\n",
    "\n",
    "    #             res = sum(diceBag.rollDie(num_sides) for j in range(num_die))\n",
    "    #             print(f\"Rolling ({num_die}d{num_sides})+{bonus}: ({res})+{bonus} = {res+bonus}\")\n",
    "\n",
    "db = DiceBag()"
   ]
  },
  {
   "cell_type": "code",
   "execution_count": 327,
   "metadata": {},
   "outputs": [
    {
     "data": {
      "text/plain": [
       "{<__main__.Die at 0x282bb9b2f90>,\n",
       " <__main__.Die at 0x282bbbace10>,\n",
       " <__main__.Die at 0x282bbbc6550>,\n",
       " <__main__.Die at 0x282bbd0a950>}"
      ]
     },
     "execution_count": 327,
     "metadata": {},
     "output_type": "execute_result"
    }
   ],
   "source": [
    "db.dice"
   ]
  },
  {
   "cell_type": "code",
   "execution_count": 326,
   "metadata": {},
   "outputs": [
    {
     "data": {
      "text/plain": [
       "22"
      ]
     },
     "execution_count": 326,
     "metadata": {},
     "output_type": "execute_result"
    }
   ],
   "source": [
    "r.roll()"
   ]
  },
  {
   "cell_type": "code",
   "execution_count": 328,
   "metadata": {},
   "outputs": [
    {
     "name": "stdout",
     "output_type": "stream",
     "text": [
      "['3d6', '1d4', '2']\n",
      "Adding die to roll\n",
      "Have ur die right here\n",
      "Adding die to roll\n",
      "Have ur die right here\n",
      "Adding die to roll\n",
      "Have ur die right here\n",
      "Adding die to roll\n",
      "Have ur die right here\n",
      "4\n",
      "4\n",
      "4\n",
      "4\n"
     ]
    }
   ],
   "source": [
    "r = Roll(db, \"3d6+1d4+2\")\n",
    "#r2 = Roll(db, \"d20\")\n"
   ]
  },
  {
   "cell_type": "code",
   "execution_count": 351,
   "metadata": {},
   "outputs": [
    {
     "name": "stdout",
     "output_type": "stream",
     "text": [
      "[5, 2, 4, 1, 6, 5, 5, 4]\n",
      "[15]\n",
      "[4, 1, 2, 4, 6, 4, 6, 3]\n",
      "[3, 2, 5, 1]\n",
      "[2, 3, 4, 1]\n"
     ]
    }
   ],
   "source": [
    "for die in db.dice:\n",
    "    print(die.getHistory())"
   ]
  },
  {
   "cell_type": "code",
   "execution_count": 348,
   "metadata": {},
   "outputs": [
    {
     "data": {
      "text/plain": [
       "13"
      ]
     },
     "execution_count": 348,
     "metadata": {},
     "output_type": "execute_result"
    }
   ],
   "source": [
    "r3.roll()"
   ]
  },
  {
   "cell_type": "code",
   "execution_count": 341,
   "metadata": {},
   "outputs": [
    {
     "data": {
      "text/plain": [
       "19"
      ]
     },
     "execution_count": 341,
     "metadata": {},
     "output_type": "execute_result"
    }
   ],
   "source": [
    "r.roll()"
   ]
  },
  {
   "cell_type": "code",
   "execution_count": null,
   "metadata": {},
   "outputs": [],
   "source": [
    "import random, re\n",
    "##\n",
    "#  Ok so, some things:\n",
    "# roll('1d3'), roll('2d6+4'), roll('d20+7x3'), roll('2d4,2d6'), roll(20)\n",
    "\n",
    "def roll(dieString:str):\n",
    "    if ',' in dieString:\n",
    "        for string in dieString.split(','):\n",
    "            roll(string)\n",
    "    else:\n",
    "        result = re.search(\"(\\d*)d(\\d+)[+]?(\\d*)?[x*]?(\\d*)?\", dieString)\n",
    "        num_die = int(result.groups()[0]) if result.groups()[0] else 1\n",
    "        num_sides = int(result.groups()[1])\n",
    "        bonus = int(result.groups()[2]) if result.groups()[2] else 0\n",
    "        num_times = int(result.groups()[3]) if result.groups()[3] else 1\n",
    "\n",
    "        for i in range(num_times):\n",
    "            res = sum(random.randint(1,num_sides) for j in range(num_die))\n",
    "            print(f\"Rolling ({num_die}d{num_sides})+{bonus}: ({res})+{bonus} = {res+bonus}\")\n",
    "\n"
   ]
  },
  {
   "cell_type": "code",
   "execution_count": null,
   "metadata": {},
   "outputs": [
    {
     "name": "stdout",
     "output_type": "stream",
     "text": [
      "Rolling (1d20)+7: (17)+7 = 24\n",
      "Rolling (1d20)+7: (1)+7 = 8\n",
      "Rolling (1d8)+7: (8)+7 = 15\n",
      "Rolling (1d8)+7: (4)+7 = 11\n"
     ]
    }
   ],
   "source": [
    "roll('1d20+7x2,1d8+7x2')"
   ]
  },
  {
   "cell_type": "code",
   "execution_count": null,
   "metadata": {},
   "outputs": [],
   "source": []
  }
 ],
 "metadata": {
  "kernelspec": {
   "display_name": "Python 3",
   "language": "python",
   "name": "python3"
  },
  "language_info": {
   "codemirror_mode": {
    "name": "ipython",
    "version": 3
   },
   "file_extension": ".py",
   "mimetype": "text/x-python",
   "name": "python",
   "nbconvert_exporter": "python",
   "pygments_lexer": "ipython3",
   "version": "3.11.7"
  }
 },
 "nbformat": 4,
 "nbformat_minor": 2
}
